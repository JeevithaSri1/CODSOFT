{
 "cells": [
  {
   "cell_type": "code",
   "execution_count": 5,
   "id": "dc285fa5-4075-4e3e-b101-87cf3851ae1d",
   "metadata": {},
   "outputs": [
    {
     "name": "stdout",
     "output_type": "stream",
     "text": [
      "Columns in dataset: Index(['Name', 'Year', 'Duration', 'Genre', 'Rating', 'Votes', 'Director',\n",
      "       'Actor 1', 'Actor 2', 'Actor 3'],\n",
      "      dtype='object')\n",
      "R² Score: 0.061521798081944024\n",
      "Mean Squared Error: 1.7911408976964918\n"
     ]
    }
   ],
   "source": [
    "# Import libraries\n",
    "import pandas as pd\n",
    "from sklearn.model_selection import train_test_split\n",
    "from sklearn.preprocessing import LabelEncoder\n",
    "from sklearn.ensemble import RandomForestRegressor\n",
    "from sklearn.metrics import r2_score, mean_squared_error\n",
    "\n",
    "# Load dataset with correct encoding\n",
    "df = pd.read_csv(r\"C:\\Users\\BOOSHAN RAJ\\OneDrive\\Desktop\\IMDb Movies India.csv\", encoding=\"ISO-8859-1\")\n",
    "\n",
    "# Check columns\n",
    "print(\"Columns in dataset:\", df.columns)\n",
    "\n",
    "# Select useful columns (updated to match your actual column names)\n",
    "df = df[['Genre', 'Director', 'Actor 1', 'Actor 2', 'Rating']]\n",
    "\n",
    "# Drop missing rows\n",
    "df = df.dropna()\n",
    "\n",
    "# Encode categorical columns\n",
    "le = LabelEncoder()\n",
    "for col in ['Genre', 'Director', 'Actor 1', 'Actor 2']:\n",
    "    df[col] = le.fit_transform(df[col])\n",
    "\n",
    "# Features and target\n",
    "X = df.drop('Rating', axis=1)\n",
    "y = df['Rating']\n",
    "\n",
    "# Split data\n",
    "X_train, X_test, y_train, y_test = train_test_split(X, y, test_size=0.2, random_state=42)\n",
    "\n",
    "# Train model\n",
    "model = RandomForestRegressor()\n",
    "model.fit(X_train, y_train)\n",
    "\n",
    "# Predict and evaluate\n",
    "y_pred = model.predict(X_test)\n",
    "print(\"R² Score:\", r2_score(y_test, y_pred))\n",
    "print(\"Mean Squared Error:\", mean_squared_error(y_test, y_pred))\n"
   ]
  },
  {
   "cell_type": "code",
   "execution_count": null,
   "id": "ef7519ca-369b-450f-aa66-f327df112c8d",
   "metadata": {},
   "outputs": [],
   "source": []
  }
 ],
 "metadata": {
  "kernelspec": {
   "display_name": "Python 3 (ipykernel)",
   "language": "python",
   "name": "python3"
  },
  "language_info": {
   "codemirror_mode": {
    "name": "ipython",
    "version": 3
   },
   "file_extension": ".py",
   "mimetype": "text/x-python",
   "name": "python",
   "nbconvert_exporter": "python",
   "pygments_lexer": "ipython3",
   "version": "3.11.7"
  }
 },
 "nbformat": 4,
 "nbformat_minor": 5
}
